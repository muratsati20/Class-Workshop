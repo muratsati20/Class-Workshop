{
 "cells": [
  {
   "cell_type": "markdown",
   "metadata": {
    "id": "MkTCBtBXuPZA"
   },
   "source": [
    "___\n",
    "\n",
    "<p style=\"text-align: center;\"><img src=\"https://docs.google.com/uc?id=1lY0Uj5R04yMY3-ZppPWxqCr5pvBLYPnV\" class=\"img-fluid\" \n",
    "alt=\"CLRSWY\"></p>\n",
    "\n",
    "## <p style=\"background-color:#FDFEFE; font-family:newtimeroman; color:#9d4f8c; font-size:100%; text-align:center; border-radius:10px 10px;\">WAY TO REINVENT YOURSELF</p>\n",
    "\n",
    "___"
   ]
  },
  {
   "cell_type": "markdown",
   "metadata": {},
   "source": [
    "<img src=https://i.ibb.co/6gCsHd6/1200px-Pandas-logo-svg.png width=\"700\" height=\"200\">\n",
    "\n",
    "## <p style=\"background-color:#FDFEFE; font-family:newtimeroman; color:#060108; font-size:200%; text-align:center; border-radius:10px 10px;\">Data Analysis with Python</p>\n",
    "\n",
    "## <p style=\"background-color:#FDFEFE; font-family:newtimeroman; color:#060108; font-size:150%; text-align:center; border-radius:10px 10px;\">Session - 03</p>\n",
    "\n",
    "## <p style=\"background-color:#FDFEFE; font-family:newtimeroman; color:#4d77cf; font-size:200%; text-align:center; border-radius:10px 10px;\">Pandas Series</p>"
   ]
  },
  {
   "cell_type": "markdown",
   "metadata": {},
   "source": [
    "<a id=\"toc\"></a>\n",
    "\n",
    "## <p style=\"background-color:#9d4f8c; font-family:newtimeroman; color:#FFF9ED; font-size:150%; text-align:center; border-radius:10px 10px;\">Content</p>\n",
    "\n",
    "* [IMPORTING LIBRARIES NEEDED IN THIS NOTEBOOK](#0)\n",
    "* [CREATING PANDAS SERIES](#1)\n",
    "    * [Using Lists](#1.1)\n",
    "    * [Using Numpy Arrays](#1.2)\n",
    "    * [Using Dictionaries](#1.3)\n",
    "    * [Using Scalar Value](#1.4)\n",
    "* [DATA IN A SERIES](#2)\n",
    "* [BASIC ATTRIBUTES & METHODS OF SERIES](#3)\n",
    "* [INDEXING AND SLICING WİTH PANDAS SERIES](#4)\n",
    "* [Selection with Condition and Broadcasting](#5)\n",
    "* [RECAP FOR SEVERAL SELECTING ATTRIBUTES](#6)\n",
    "* [THE END OF THE SESSION-03](#7)"
   ]
  },
  {
   "cell_type": "markdown",
   "metadata": {},
   "source": [
    "## <p style=\"background-color:#9d4f8c; font-family:newtimeroman; color:#FFF9ED; font-size:175%; text-align:center; border-radius:10px 10px;\">Importing Libraries Needed in This Notebook</p>\n",
    "\n",
    "<a id=\"0\"></a>\n",
    "<a href=\"#toc\" class=\"btn btn-primary btn-sm\" role=\"button\" aria-pressed=\"true\" \n",
    "style=\"color:blue; background-color:#dfa8e4\" data-toggle=\"popover\">Content</a>\n",
    "\n",
    "Once you've installed NumPy & Pandas you can import them as a library:"
   ]
  },
  {
   "cell_type": "code",
   "execution_count": 1,
   "metadata": {
    "id": "i7VkXwmNuPZL"
   },
   "outputs": [],
   "source": [
    "import numpy as np\n",
    "import pandas as pd"
   ]
  },
  {
   "cell_type": "markdown",
   "metadata": {},
   "source": [
    "## <p style=\"background-color:#9d4f8c; font-family:newtimeroman; color:#FFF9ED; font-size:175%; text-align:center; border-radius:10px 10px;\">Creating a Pandas Series</p>\n",
    "\n",
    "<a id=\"1\"></a>\n",
    "<a href=\"#toc\" class=\"btn btn-primary btn-sm\" role=\"button\" aria-pressed=\"true\" \n",
    "style=\"color:blue; background-color:#dfa8e4\" data-toggle=\"popover\">Content</a>\n",
    "\n",
    "Pandas series is a one-dimensional data structure. It can hold data of many types including objects, floats, strings and integers. You can create a series by calling pandas.Series(). A list, numpy array, dict can be turned into a pandas series. You should use the simplest data structure that meets your needs [Source](https://pythonbasics.org/pandas-series/). The axis labels are collectively called index. Labels need not be unique but must be a hashable type. The object supports both integer and label-based indexing and provides a host of methods for performing operations involving the index [Source](https://www.geeksforgeeks.org/creating-a-pandas-series/).\n",
    "\n",
    "[SOURCE01](https://pandas.pydata.org/docs/reference/api/pandas.Series.html), [SOURCE02](https://www.datasciencemadesimple.com/create-series-in-python-pandas/), \n",
    "[SOURCE03](https://www.cbsecsip.in/2020/08/pandas-data-structure-series.html), \n",
    "[SOURCE04](https://towardsdatascience.com/pandas-series-a-lightweight-intro-b7963a0d62a2), \n",
    "[SOURCE05](https://www.educba.com/pandas-series/), \n",
    "[SOURCE06](http://www.rebellionrider.com/python-pandas-series-in-detail-part-1/), \n",
    "[SOURCE06](https://www.javatpoint.com/python-pandas-series), &\n",
    "[SOURCE06](https://towardsdatascience.com/20-examples-to-master-pandas-series-bc4c68200324)<br>\n",
    "\n",
    "In this lecture we will discuss how to create Pandas Series, use basic attributes of Series, index Pandas Series & be familiar with Pandas Dataframes."
   ]
  },
  {
   "cell_type": "markdown",
   "metadata": {},
   "source": [
    "**You can create a series by calling pandas. Series() . A list, numpy array, dict and scalar value can be turned into a pandas series.**\n",
    "\n",
    "**``pd.Series(data=None, index=None, dtype=None, name=None, copy=False, fastpath=False)``**\n",
    "\n",
    "One-dimensional ndarray with axis labels (including time series)."
   ]
  },
  {
   "cell_type": "code",
   "execution_count": 2,
   "metadata": {
    "id": "XUnr4ijkuPZS"
   },
   "outputs": [],
   "source": [
    "labels = ['a', 'b', 'c']\n",
    "my_list = [10, 20, 30]\n",
    "arr = np.array([10, 20, 30])\n",
    "d = {'a': 10, 'b': 20, 'c': 30}"
   ]
  },
  {
   "cell_type": "markdown",
   "metadata": {},
   "source": [
    "### <p style=\"background-color:#9d4f8c; font-family:newtimeroman; color:#FFF9ED; font-size:150%; text-align:center; border-radius:10px 10px;\">Using Lists</p>\n",
    "\n",
    "<a id=\"1.2.1\"></a>\n",
    "<a href=\"#toc\" class=\"btn btn-primary btn-sm\" role=\"button\" aria-pressed=\"true\" \n",
    "style=\"color:blue; background-color:#dfa8e4\" data-toggle=\"popover\">Content</a>\n",
    "\n",
    "**To turn a list into a series, all you have to do is:**"
   ]
  },
  {
   "cell_type": "code",
   "execution_count": null,
   "metadata": {},
   "outputs": [],
   "source": []
  },
  {
   "cell_type": "markdown",
   "metadata": {},
   "source": [
    "By default it assigns an index. First it shows the index, then the element value."
   ]
  },
  {
   "cell_type": "markdown",
   "metadata": {},
   "source": [
    "### <p style=\"background-color:#9d4f8c; font-family:newtimeroman; color:#FFF9ED; font-size:150%; text-align:center; border-radius:10px 10px;\">Using NumPy Arrays</p>\n",
    "\n",
    "<a id=\"1.2.2\"></a>\n",
    "<a href=\"#toc\" class=\"btn btn-primary btn-sm\" role=\"button\" aria-pressed=\"true\" \n",
    "style=\"color:blue; background-color:#dfa8e4\" data-toggle=\"popover\">Content</a>\n",
    "\n",
    "**You can create a series from a numpy ndarray.**"
   ]
  },
  {
   "cell_type": "code",
   "execution_count": null,
   "metadata": {},
   "outputs": [],
   "source": []
  },
  {
   "cell_type": "markdown",
   "metadata": {},
   "source": [
    "### <p style=\"background-color:#9d4f8c; font-family:newtimeroman; color:#FFF9ED; font-size:150%; text-align:center; border-radius:10px 10px;\">Using Dictionaries</p>\n",
    "\n",
    "<a id=\"1.2.3\"></a>\n",
    "<a href=\"#toc\" class=\"btn btn-primary btn-sm\" role=\"button\" aria-pressed=\"true\" \n",
    "style=\"color:blue; background-color:#dfa8e4\" data-toggle=\"popover\">Content</a>\n",
    "\n",
    "**If you have a dictionary, you can turn it into a series:**"
   ]
  },
  {
   "cell_type": "code",
   "execution_count": null,
   "metadata": {},
   "outputs": [],
   "source": []
  },
  {
   "cell_type": "markdown",
   "metadata": {},
   "source": [
    "It used the dictionary keys as index. The keys of the dictionary match with the Index values; hence, the default Index values have no effect."
   ]
  },
  {
   "cell_type": "code",
   "execution_count": null,
   "metadata": {},
   "outputs": [],
   "source": []
  },
  {
   "cell_type": "markdown",
   "metadata": {},
   "source": [
    "Note that the Index is first build with the keys from the dictionary. After this the Series is reindexed with the given Index values, hence we get all NaN as a result."
   ]
  },
  {
   "cell_type": "markdown",
   "metadata": {},
   "source": [
    "### <p style=\"background-color:#9d4f8c; font-family:newtimeroman; color:#FFF9ED; font-size:150%; text-align:center; border-radius:10px 10px;\">Using Scalar Value</p>\n",
    "\n",
    "<a id=\"1.2.4\"></a>\n",
    "<a href=\"#toc\" class=\"btn btn-primary btn-sm\" role=\"button\" aria-pressed=\"true\" \n",
    "style=\"color:blue; background-color:#dfa8e4\" data-toggle=\"popover\">Content</a>\n",
    "\n",
    "**``Scalars``** are single values representing one unit of data, such as an integer or bool, as opposed to data structures like a list or tuple, which are composed of scalars.\n",
    "\n",
    "If data is a scalar value, an index must be provided. The value will be repeated to match the length of index [Source](https://www.tutorialspoint.com/python_pandas/python_pandas_series.htm)."
   ]
  },
  {
   "cell_type": "code",
   "execution_count": null,
   "metadata": {},
   "outputs": [],
   "source": []
  },
  {
   "cell_type": "markdown",
   "metadata": {
    "id": "zK1CZtLouPZV"
   },
   "source": [
    "## <p style=\"background-color:#9d4f8c; font-family:newtimeroman; color:#FFF9ED; font-size:175%; text-align:center; border-radius:10px 10px;\">Data in a Series</p>\n",
    "\n",
    "<a id=\"2\"></a>\n",
    "<a href=\"#toc\" class=\"btn btn-primary btn-sm\" role=\"button\" aria-pressed=\"true\" \n",
    "style=\"color:blue; background-color:#dfa8e4\" data-toggle=\"popover\">Content</a>\n",
    "\n",
    "**``A series``** is a **one-dimensional data structure**. A Series is very **similar to a NumPy array** (in fact it is built on top of the NumPy array object). **What differentiates** the NumPy array from a Series, is that a Series can **have axis labels**, meaning it can be indexed by a label, instead of just a number location. It also doesn’t need to hold numeric data, it can hold any arbitrary Python Object [Source](http://www.datasciencelovers.com/python-for-data-science/pandas-series/).\n",
    "\n",
    "So important point to remember for Pandas series is:\n",
    "\n",
    "- Homogeneous data\n",
    "- Size Immutable\n",
    "- Values of Data Mutable\n",
    "\n",
    "**A pandas Series can hold a variety of object types:**"
   ]
  },
  {
   "cell_type": "code",
   "execution_count": null,
   "metadata": {},
   "outputs": [],
   "source": []
  },
  {
   "cell_type": "markdown",
   "metadata": {},
   "source": [
    "[Reminder Source for Numpy Arrays](https://pythonguides.com/python-numpy-data-types/)"
   ]
  },
  {
   "cell_type": "markdown",
   "metadata": {},
   "source": [
    "## <p style=\"background-color:#9d4f8c; font-family:newtimeroman; color:#FFF9ED; font-size:150%; text-align:center; border-radius:10px 10px;\">BASIC ATTRIBUTES & METHODS OF SERIES</p>\n",
    "\n",
    "<a id=\"3\"></a>\n",
    "<a href=\"#toc\" class=\"btn btn-primary btn-sm\" role=\"button\" aria-pressed=\"true\" \n",
    "style=\"color:blue; background-color:#dfa8e4\" data-toggle=\"popover\">Content</a>\n",
    "\n",
    "**SOME COMMON ATTRIBUTES** [Official Pandas API Document](https://pandas.pydata.org/docs/reference/api/pandas.Series.html)<br>\n",
    "\n",
    "**Series.dtype**\tIt returns the data type of the data.<br>\n",
    "**Series.shape**\tIt returns a tuple of shape of the data.<br>\n",
    "**Series.size**\t    It returns the size of the data.<br>\n",
    "**Series.ndim**\t    It returns the number of dimensions in the data.<br>\n",
    "**Series.index**\tDefines the index of the Series.<br>\n",
    "**Series.keys**  \tReturn alias for index.<br>\n",
    "**Series.values**   Returns Series as ndarray or ndarray-like depending on the dtype.<br>\n",
    "**Series.items**\tLazily iterate over (index, value) tuples.<br>\n",
    "**Series.head**   \tReturn the first n rows.<br>\n",
    "**Series.tail** \tReturn the last n rows.<br>\n",
    "**Series.sample**   Return a random sample of items from an axis of object.<br>\n",
    "**Series.sort_index**  Sort Series by index labels.<br>\n",
    "**Series.sort_values**  Sort by the values.<br>\n",
    "**Series.isin**     Whether elements in Series are contained in values.<br>"
   ]
  },
  {
   "cell_type": "code",
   "execution_count": null,
   "metadata": {},
   "outputs": [],
   "source": []
  },
  {
   "cell_type": "markdown",
   "metadata": {
    "id": "LLA4QNehuPZb"
   },
   "source": [
    "## <p style=\"background-color:#9d4f8c; font-family:newtimeroman; color:#FFF9ED; font-size:150%; text-align:center; border-radius:10px 10px;\">Indexing and Slicing with Pandas Series</p>\n",
    "\n",
    "<a id=\"4\"></a>\n",
    "<a href=\"#toc\" class=\"btn btn-primary btn-sm\" role=\"button\" aria-pressed=\"true\" \n",
    "style=\"color:blue; background-color:#dfa8e4\" data-toggle=\"popover\">Content</a>\n",
    "\n",
    "As stated and implemented by examples above, a Series is very similar to a NumPy array. What differentiates the NumPy array from a Series is that **a Series can have axis labels**, meaning it can be indexed by a label, instead of just a number location. It also doesn’t need to hold numeric data, it can hold any arbitrary Python Object [Source](https://rpubs.com/pjozefek/659184).\n",
    "\n",
    "The key to using a Series is understanding its index. Pandas makes use of these index names or numbers by allowing for fast look up of information.\n",
    "\n",
    "The axis labeling information in pandas objects serves many purposes:\n",
    "\n",
    "- Identifies data (i.e. provides metadata) using known indicators, important for analysis, visualization, and interactive console display.\n",
    "- Enables automatic and explicit data alignment.\n",
    "- Allows intuitive getting and setting of subsets of the data set.\n",
    "\n",
    "In this section, we will focus on the final point: namely, how to slice, dice, and generally get and set subsets of pandas objects. The primary focus will be on Series and DataFrame as they have received more development attention in this area. For more information, please visit [pandas-docs.github.io](https://pandas-docs.github.io/pandas-docs-travis/user_guide/indexing.html)\n",
    "\n",
    "Let's see some examples of how to grab information from a Series. Let us create two sereis, ser1 and ser2:"
   ]
  },
  {
   "cell_type": "code",
   "execution_count": 55,
   "metadata": {
    "id": "S5WOmI-OuPZb"
   },
   "outputs": [],
   "source": [
    "ser1 = pd.Series([1, 2, 3, 4], index = ['USA', 'Germany','RF', 'Japan'])\n",
    "ser2 = pd.Series([1, 2, 5, 4, 6], index = ['USA', 'Germany','Italy', 'Japan', 'Spain'])"
   ]
  },
  {
   "cell_type": "markdown",
   "metadata": {},
   "source": [
    "The two main data structures in pandas both have at least one axis. A **Series** has **one axis**, the index. A **DataFrame** has **two axes**, the index and the columns. It’s useful to note here that in all the DataFrame functions that can be applied to either rows or columns, an axis of 0 refers to the index, an axis of 1 refers to the columns."
   ]
  },
  {
   "cell_type": "code",
   "execution_count": null,
   "metadata": {},
   "outputs": [],
   "source": []
  },
  {
   "cell_type": "markdown",
   "metadata": {},
   "source": [
    "**We're going to start with the basic form of selecting, using the [ ] operator.**\n",
    "\n",
    "If we don’t introduce labels into our Series the index by default will be the natural numbers starting from 0. So the index will be the number of data introduced - 1."
   ]
  },
  {
   "cell_type": "code",
   "execution_count": null,
   "metadata": {},
   "outputs": [],
   "source": []
  },
  {
   "cell_type": "markdown",
   "metadata": {},
   "source": [
    "Here we can see how 'calling' a label works."
   ]
  },
  {
   "cell_type": "code",
   "execution_count": null,
   "metadata": {},
   "outputs": [],
   "source": []
  },
  {
   "cell_type": "markdown",
   "metadata": {},
   "source": [
    "As seen above, with a Series, the call will return a single scalar value that matches the value at that label in the index. If you pass in a value for a label that doesn't exist, you will get a KeyError raised. Also, if you pass in an integer and your index has that value, it will return it. But if you don't have an integer value in your index, it will return the value by position. This is convenient, but can be confusing."
   ]
  },
  {
   "cell_type": "markdown",
   "metadata": {},
   "source": [
    "**Let's see some slicing example with Series**"
   ]
  },
  {
   "cell_type": "code",
   "execution_count": null,
   "metadata": {},
   "outputs": [],
   "source": []
  },
  {
   "cell_type": "markdown",
   "metadata": {
    "id": "FuAlZSDAuPZd"
   },
   "source": [
    "**Another huge pro of using labelled indexes is that you can perform operations between two different series and pandas know what labels have both series in common and does the addition automatically.**\n",
    "\n",
    "Operations are then also done based on index:"
   ]
  },
  {
   "cell_type": "code",
   "execution_count": null,
   "metadata": {},
   "outputs": [],
   "source": []
  },
  {
   "cell_type": "markdown",
   "metadata": {},
   "source": [
    "**Let's make changes on indexes:**"
   ]
  },
  {
   "cell_type": "code",
   "execution_count": 76,
   "metadata": {
    "colab": {
     "base_uri": "https://localhost:8080/"
    },
    "id": "SzUGaG2YuPZg",
    "outputId": "227793d2-d2d8-4275-d375-fd002cce4f05"
   },
   "outputs": [
    {
     "data": {
      "text/plain": [
       "terry      121\n",
       "micheal    200\n",
       "orion      150\n",
       "jason       99\n",
       "dtype: int64"
      ]
     },
     "execution_count": 76,
     "metadata": {},
     "output_type": "execute_result"
    }
   ],
   "source": [
    "ser = pd.Series(data = [121, 200, 150, 99], index = [\"terry\", \"micheal\", \"orion\", \"jason\"])\n",
    "ser"
   ]
  },
  {
   "cell_type": "code",
   "execution_count": null,
   "metadata": {},
   "outputs": [],
   "source": []
  },
  {
   "cell_type": "markdown",
   "metadata": {},
   "source": [
    "## <p style=\"background-color:#9d4f8c; font-family:newtimeroman; color:#FFF9ED; font-size:150%; text-align:center; border-radius:10px 10px;\">Selection with Condition and Broadcasting</p>\n",
    "\n",
    "<a id=\"5\"></a>\n",
    "<a href=\"#toc\" class=\"btn btn-primary btn-sm\" role=\"button\" aria-pressed=\"true\" \n",
    "style=\"color:blue; background-color:#dfa8e4\" data-toggle=\"popover\">Content</a>"
   ]
  },
  {
   "cell_type": "code",
   "execution_count": null,
   "metadata": {},
   "outputs": [],
   "source": []
  },
  {
   "cell_type": "markdown",
   "metadata": {},
   "source": [
    "## <p style=\"background-color:#9d4f8c; font-family:newtimeroman; color:#FFF9ED; font-size:150%; text-align:center; border-radius:10px 10px;\">Recap for Several Selecting Attributes</p>\n",
    "\n",
    "<a id=\"6\"></a>\n",
    "<a href=\"#toc\" class=\"btn btn-primary btn-sm\" role=\"button\" aria-pressed=\"true\" \n",
    "style=\"color:blue; background-color:#dfa8e4\" data-toggle=\"popover\">Content</a>"
   ]
  },
  {
   "cell_type": "code",
   "execution_count": null,
   "metadata": {},
   "outputs": [],
   "source": []
  },
  {
   "cell_type": "markdown",
   "metadata": {},
   "source": [
    "## <p style=\"background-color:#FDFEFE; font-family:newtimeroman; color:#9d4f8c; font-size:150%; text-align:center; border-radius:10px 10px;\">The End of The Session - 03</p>\n",
    "\n",
    "<a id=\"7\"></a>\n",
    "<a href=\"#toc\" class=\"btn btn-primary btn-sm\" role=\"button\" aria-pressed=\"true\" \n",
    "style=\"color:blue; background-color:#dfa8e4\" data-toggle=\"popover\">Content</a>"
   ]
  },
  {
   "cell_type": "markdown",
   "metadata": {},
   "source": [
    "<p style=\"text-align: center;\"><img src=\"https://docs.google.com/uc?id=1lY0Uj5R04yMY3-ZppPWxqCr5pvBLYPnV\" class=\"img-fluid\" \n",
    "alt=\"CLRSWY\"></p>\n",
    "\n",
    "## <p style=\"background-color:#FDFEFE; font-family:newtimeroman; color:#9d4f8c; font-size:100%; text-align:center; border-radius:10px 10px;\">WAY TO REINVENT YOURSELF</p>\n",
    "\n",
    "___"
   ]
  }
 ],
 "metadata": {
  "colab": {
   "name": "DAwPy-S3 (Pandas Series).ipynb",
   "provenance": []
  },
  "kernelspec": {
   "display_name": "Python 3 (ipykernel)",
   "language": "python",
   "name": "python3"
  },
  "language_info": {
   "codemirror_mode": {
    "name": "ipython",
    "version": 3
   },
   "file_extension": ".py",
   "mimetype": "text/x-python",
   "name": "python",
   "nbconvert_exporter": "python",
   "pygments_lexer": "ipython3",
   "version": "3.9.12"
  },
  "toc": {
   "base_numbering": 1,
   "nav_menu": {},
   "number_sections": false,
   "sideBar": true,
   "skip_h1_title": false,
   "title_cell": "Table of Contents",
   "title_sidebar": "Contents",
   "toc_cell": false,
   "toc_position": {},
   "toc_section_display": true,
   "toc_window_display": false
  }
 },
 "nbformat": 4,
 "nbformat_minor": 1
}
